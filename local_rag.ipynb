{
  "cells": [
    {
      "cell_type": "markdown",
      "metadata": {
        "id": "view-in-github",
        "colab_type": "text"
      },
      "source": [
        "<a href=\"https://colab.research.google.com/github/alarcon7a/Langchain-con-Ollama/blob/main/local_rag.ipynb\" target=\"_parent\"><img src=\"https://colab.research.google.com/assets/colab-badge.svg\" alt=\"Open In Colab\"/></a>"
      ]
    },
    {
      "metadata": {
        "id": "a427e3b219ad4983"
      },
      "cell_type": "code",
      "source": [
        "#!pip install fastembed langchain langchain_community PyMuPDF chromadb"
      ],
      "id": "a427e3b219ad4983",
      "execution_count": null,
      "outputs": []
    },
    {
      "metadata": {
        "id": "609696e2cbc36f00"
      },
      "cell_type": "markdown",
      "source": [
        "## Ollama from langchain"
      ],
      "id": "609696e2cbc36f00"
    },
    {
      "cell_type": "code",
      "id": "initial_id",
      "metadata": {
        "collapsed": true,
        "ExecuteTime": {
          "end_time": "2024-05-07T04:48:25.727440Z",
          "start_time": "2024-05-07T04:48:03.117052Z"
        },
        "id": "initial_id"
      },
      "source": [
        "from langchain_community.llms import Ollama\n",
        "\n",
        "llm = Ollama(model=\"llama3\")\n",
        "\n",
        "llm.invoke(\"Hola, quien eres?\")"
      ],
      "execution_count": null,
      "outputs": []
    },
    {
      "metadata": {
        "id": "2f6c4046251edad"
      },
      "cell_type": "markdown",
      "source": [
        "## RAG"
      ],
      "id": "2f6c4046251edad"
    },
    {
      "metadata": {
        "id": "37c2e425161bbe10"
      },
      "cell_type": "markdown",
      "source": [
        "### Load Document"
      ],
      "id": "37c2e425161bbe10"
    },
    {
      "metadata": {
        "ExecuteTime": {
          "end_time": "2024-05-07T04:48:26.105535Z",
          "start_time": "2024-05-07T04:48:25.729887Z"
        },
        "id": "e535977811b3eaaa"
      },
      "cell_type": "code",
      "source": [
        "from langchain_community.document_loaders import PyMuPDFLoader\n",
        "\n",
        "loader = PyMuPDFLoader(\"src/HAI_2024_AI-Index-Report.pdf\")"
      ],
      "id": "e535977811b3eaaa",
      "execution_count": null,
      "outputs": []
    },
    {
      "metadata": {
        "ExecuteTime": {
          "end_time": "2024-05-07T04:48:33.783299Z",
          "start_time": "2024-05-07T04:48:26.107317Z"
        },
        "id": "aed45119c2090e4f"
      },
      "cell_type": "code",
      "source": [
        "data_pdf = loader.load()"
      ],
      "id": "aed45119c2090e4f",
      "execution_count": null,
      "outputs": []
    },
    {
      "metadata": {
        "ExecuteTime": {
          "end_time": "2024-05-07T04:48:33.789542Z",
          "start_time": "2024-05-07T04:48:33.785472Z"
        },
        "id": "46ce479e22ee5646"
      },
      "cell_type": "code",
      "source": [
        "data_pdf[1]"
      ],
      "id": "46ce479e22ee5646",
      "execution_count": null,
      "outputs": []
    },
    {
      "metadata": {
        "ExecuteTime": {
          "end_time": "2024-05-07T04:48:33.884111Z",
          "start_time": "2024-05-07T04:48:33.790718Z"
        },
        "id": "29127546585240e1"
      },
      "cell_type": "code",
      "source": [
        "from langchain.text_splitter import RecursiveCharacterTextSplitter\n",
        "text_splitter = RecursiveCharacterTextSplitter(chunk_size=2000, chunk_overlap=500)\n",
        "docs = text_splitter.split_documents(data_pdf)"
      ],
      "id": "29127546585240e1",
      "execution_count": null,
      "outputs": []
    },
    {
      "metadata": {
        "ExecuteTime": {
          "end_time": "2024-05-07T04:48:33.889526Z",
          "start_time": "2024-05-07T04:48:33.885436Z"
        },
        "id": "290fafdb4213c62b"
      },
      "cell_type": "code",
      "source": [
        "docs[2]"
      ],
      "id": "290fafdb4213c62b",
      "execution_count": null,
      "outputs": []
    },
    {
      "metadata": {
        "ExecuteTime": {
          "end_time": "2024-05-07T04:48:33.905584Z",
          "start_time": "2024-05-07T04:48:33.890614Z"
        },
        "id": "e52f820a6200c0f2"
      },
      "cell_type": "code",
      "source": [
        "docs[3]"
      ],
      "id": "e52f820a6200c0f2",
      "execution_count": null,
      "outputs": []
    },
    {
      "metadata": {
        "ExecuteTime": {
          "end_time": "2024-05-07T04:48:35.263166Z",
          "start_time": "2024-05-07T04:48:33.906941Z"
        },
        "id": "fbc2f7d236e5f652"
      },
      "cell_type": "code",
      "source": [
        "from langchain_community.embeddings.fastembed import FastEmbedEmbeddings\n",
        "embed_model = FastEmbedEmbeddings(model_name=\"sentence-transformers/all-MiniLM-L6-v2\")"
      ],
      "id": "fbc2f7d236e5f652",
      "execution_count": null,
      "outputs": []
    },
    {
      "metadata": {
        "ExecuteTime": {
          "end_time": "2024-05-07T04:50:50.200097Z",
          "start_time": "2024-05-07T04:49:42.943717Z"
        },
        "id": "b8690559a38ae72c"
      },
      "cell_type": "code",
      "source": [
        "from langchain_community.vectorstores import Chroma\n",
        "\n",
        "vs = Chroma.from_documents(\n",
        "    documents=docs,\n",
        "    embedding=embed_model,\n",
        "    persist_directory=\"chroma_db_dir\",  # Local mode with in-memory storage only\n",
        "    collection_name=\"stanford_report_data\"\n",
        ")"
      ],
      "id": "b8690559a38ae72c",
      "execution_count": null,
      "outputs": []
    },
    {
      "metadata": {
        "ExecuteTime": {
          "end_time": "2024-05-07T04:51:59.633151Z",
          "start_time": "2024-05-07T04:51:59.615279Z"
        },
        "id": "491315bd48fe2b3a"
      },
      "cell_type": "code",
      "source": [
        "vectorstore = Chroma(embedding_function=embed_model,\n",
        "                     persist_directory=\"chroma_db_dir\",\n",
        "                     collection_name=\"stanford_report_data\")\n",
        "retriever=vectorstore.as_retriever(search_kwargs={'k': 3})\n"
      ],
      "id": "491315bd48fe2b3a",
      "execution_count": null,
      "outputs": []
    },
    {
      "metadata": {
        "ExecuteTime": {
          "end_time": "2024-05-07T04:58:57.064376Z",
          "start_time": "2024-05-07T04:58:57.060843Z"
        },
        "id": "be4ecf951a8e7dba"
      },
      "cell_type": "code",
      "source": [
        "from langchain.prompts import PromptTemplate\n",
        "\n",
        "custom_prompt_template = \"\"\"Usa la siguiente información para responder a la pregunta del usuario.\n",
        "Si no sabes la respuesta, simplemente di que no lo sabes, no intentes inventar una respuesta.\n",
        "\n",
        "Contexto: {context}\n",
        "Pregunta: {question}\n",
        "\n",
        "Solo devuelve la respuesta útil a continuación y nada más y responde siempre en español\n",
        "Respuesta útil:\n",
        "\"\"\"\n",
        "prompt = PromptTemplate(template=custom_prompt_template,\n",
        "                        input_variables=['context', 'question'])"
      ],
      "id": "be4ecf951a8e7dba",
      "execution_count": null,
      "outputs": []
    },
    {
      "metadata": {
        "ExecuteTime": {
          "end_time": "2024-05-07T04:58:59.535953Z",
          "start_time": "2024-05-07T04:58:59.532673Z"
        },
        "id": "d9bb4df68390ea68"
      },
      "cell_type": "code",
      "source": [
        "from langchain.chains import RetrievalQA\n",
        "\n",
        "qa = RetrievalQA.from_chain_type(llm=llm,\n",
        "                                 chain_type=\"stuff\",\n",
        "                                 retriever=retriever,\n",
        "                                 return_source_documents=True,\n",
        "                                 chain_type_kwargs={\"prompt\": prompt})"
      ],
      "id": "d9bb4df68390ea68",
      "execution_count": null,
      "outputs": []
    },
    {
      "metadata": {
        "ExecuteTime": {
          "end_time": "2024-05-07T04:54:55.348321Z",
          "start_time": "2024-05-07T04:54:10.731031Z"
        },
        "id": "aff152852bbbcae"
      },
      "cell_type": "code",
      "source": [
        "response = qa.invoke({\"query\": \"Cual es el comportamiento de los modelos fundacionales?\"})"
      ],
      "id": "aff152852bbbcae",
      "execution_count": null,
      "outputs": []
    },
    {
      "metadata": {
        "ExecuteTime": {
          "end_time": "2024-05-07T04:55:08.287886Z",
          "start_time": "2024-05-07T04:55:08.283135Z"
        },
        "id": "a1347043e3e2d371"
      },
      "cell_type": "code",
      "source": [
        "response['result']"
      ],
      "id": "a1347043e3e2d371",
      "execution_count": null,
      "outputs": []
    },
    {
      "metadata": {
        "ExecuteTime": {
          "end_time": "2024-05-07T04:59:12.673266Z",
          "start_time": "2024-05-07T04:59:04.476662Z"
        },
        "id": "c747508f1da46dc3"
      },
      "cell_type": "code",
      "source": [
        "response = qa.invoke({\"query\": \"que es QLoRA?, explicamelo en detalle\"})\n",
        "response\n"
      ],
      "id": "c747508f1da46dc3",
      "execution_count": null,
      "outputs": []
    },
    {
      "metadata": {
        "ExecuteTime": {
          "end_time": "2024-05-07T04:59:12.677758Z",
          "start_time": "2024-05-07T04:59:12.674430Z"
        },
        "id": "18c810ef0ecd7433"
      },
      "cell_type": "code",
      "source": [
        "response['result']"
      ],
      "id": "18c810ef0ecd7433",
      "execution_count": null,
      "outputs": []
    },
    {
      "metadata": {
        "ExecuteTime": {
          "end_time": "2024-05-07T05:00:07.923439Z",
          "start_time": "2024-05-07T05:00:07.917548Z"
        },
        "id": "b1ebae3dbea446df"
      },
      "cell_type": "code",
      "source": [
        "metadata = []\n",
        "for _ in response['source_documents']:\n",
        "    metadata.append((_.metadata['page'], _.metadata['file_path']))\n",
        "metadata"
      ],
      "id": "b1ebae3dbea446df",
      "execution_count": null,
      "outputs": []
    }
  ],
  "metadata": {
    "kernelspec": {
      "display_name": "Python 3",
      "language": "python",
      "name": "python3"
    },
    "language_info": {
      "codemirror_mode": {
        "name": "ipython",
        "version": 2
      },
      "file_extension": ".py",
      "mimetype": "text/x-python",
      "name": "python",
      "nbconvert_exporter": "python",
      "pygments_lexer": "ipython2",
      "version": "2.7.6"
    },
    "colab": {
      "provenance": [],
      "toc_visible": true,
      "include_colab_link": true
    }
  },
  "nbformat": 4,
  "nbformat_minor": 5
}